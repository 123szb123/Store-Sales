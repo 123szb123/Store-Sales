{
 "cells": [
  {
   "cell_type": "code",
   "execution_count": 34,
   "id": "18898378",
   "metadata": {},
   "outputs": [],
   "source": [
    "from statsmodels.tsa.deterministic import DeterministicProcess\n",
    "from sklearn.linear_model import LinearRegression\n",
    "from sklearn.metrics import mean_squared_log_error\n",
    "import pandas as pd\n",
    "import numpy as np\n",
    "import matplotlib.pyplot as plt\n",
    "import seaborn as sns\n",
    "from sklearn.linear_model import LinearRegression\n",
    "from scipy.signal import periodogram\n",
    "from statsmodels.tsa.deterministic import DeterministicProcess, CalendarFourier # For modeling trends and seasonal features"
   ]
  },
  {
   "cell_type": "code",
   "execution_count": 35,
   "id": "4b650990",
   "metadata": {},
   "outputs": [
    {
     "name": "stdout",
     "output_type": "stream",
     "text": [
      "TRAINING DATA \n",
      "\n",
      "<class 'pandas.core.frame.DataFrame'>\n",
      "RangeIndex: 3000888 entries, 0 to 3000887\n",
      "Data columns (total 6 columns):\n",
      " #   Column       Dtype  \n",
      "---  ------       -----  \n",
      " 0   id           int64  \n",
      " 1   date         object \n",
      " 2   store_nbr    int64  \n",
      " 3   family       object \n",
      " 4   sales        float64\n",
      " 5   onpromotion  int64  \n",
      "dtypes: float64(1), int64(3), object(2)\n",
      "memory usage: 137.4+ MB\n",
      "None\n",
      "\n",
      "\n",
      "STORES METADATA \n",
      "\n",
      "<class 'pandas.core.frame.DataFrame'>\n",
      "RangeIndex: 54 entries, 0 to 53\n",
      "Data columns (total 5 columns):\n",
      " #   Column     Non-Null Count  Dtype \n",
      "---  ------     --------------  ----- \n",
      " 0   store_nbr  54 non-null     int64 \n",
      " 1   city       54 non-null     object\n",
      " 2   state      54 non-null     object\n",
      " 3   type       54 non-null     object\n",
      " 4   cluster    54 non-null     int64 \n",
      "dtypes: int64(2), object(3)\n",
      "memory usage: 2.2+ KB\n",
      "None\n"
     ]
    }
   ],
   "source": [
    "# Datasets\n",
    "train = pd.read_csv('data/train.csv')\n",
    "stores = pd.read_csv('data/stores.csv')\n",
    "\n",
    "print('TRAINING DATA \\n')\n",
    "print(train.info())\n",
    "print('\\n')\n",
    "print('STORES METADATA \\n')\n",
    "print(stores.info())"
   ]
  },
  {
   "cell_type": "code",
   "execution_count": 36,
   "id": "268dd58e",
   "metadata": {},
   "outputs": [],
   "source": [
    "# convert date strings to datetime objects\n",
    "train['date'] = pd.to_datetime(train['date'])"
   ]
  },
  {
   "cell_type": "code",
   "execution_count": 37,
   "id": "75d004e9",
   "metadata": {},
   "outputs": [
    {
     "name": "stdout",
     "output_type": "stream",
     "text": [
      "<class 'pandas.core.frame.DataFrame'>\n",
      "RangeIndex: 3000888 entries, 0 to 3000887\n",
      "Data columns (total 10 columns):\n",
      " #   Column       Dtype         \n",
      "---  ------       -----         \n",
      " 0   id           int64         \n",
      " 1   date         datetime64[ns]\n",
      " 2   store_nbr    int64         \n",
      " 3   family       object        \n",
      " 4   sales        float64       \n",
      " 5   onpromotion  int64         \n",
      " 6   city         object        \n",
      " 7   state        object        \n",
      " 8   type         object        \n",
      " 9   cluster      int64         \n",
      "dtypes: datetime64[ns](1), float64(1), int64(4), object(4)\n",
      "memory usage: 228.9+ MB\n"
     ]
    }
   ],
   "source": [
    "df = pd.merge(\n",
    "    train,\n",
    "    stores,\n",
    "    on = 'store_nbr',\n",
    "    how = 'left'\n",
    ")\n",
    "\n",
    "df.info()"
   ]
  },
  {
   "cell_type": "code",
   "execution_count": 38,
   "id": "21a29180",
   "metadata": {},
   "outputs": [],
   "source": [
    "# Drop id feature\n",
    "df = df.drop(columns={'id'},axis=1)"
   ]
  },
  {
   "cell_type": "code",
   "execution_count": 39,
   "id": "699be52f",
   "metadata": {},
   "outputs": [],
   "source": [
    "categorical_features = ['store_nbr','family','onpromotion','city','state','type','cluster']\n",
    "# numerical_features = ['sales']"
   ]
  },
  {
   "cell_type": "code",
   "execution_count": 43,
   "id": "83a390a9",
   "metadata": {},
   "outputs": [],
   "source": [
    "from sklearn.compose import ColumnTransformer\n",
    "from sklearn.pipeline import Pipeline\n",
    "from sklearn.preprocessing import OneHotEncoder, StandardScaler\n",
    "\n",
    "preprocessor = ColumnTransformer(\n",
    "    transformers =[\n",
    "        #('num',StandardScaler(), numerical_features),\n",
    "        ('cat',OneHotEncoder(handle_unknown='ignore'),categorical_features)\n",
    "    ]\n",
    ")\n",
    "\n",
    "model_pipeline = Pipeline(steps=[\n",
    "    ('preprocessor',preprocessor),\n",
    "    ('regressor',LinearRegression())\n",
    "    ])"
   ]
  },
  {
   "cell_type": "code",
   "execution_count": 44,
   "id": "10539b7a",
   "metadata": {},
   "outputs": [],
   "source": [
    "X = df.drop('sales',axis=1)\n",
    "y = df['sales']\n",
    "\n",
    "from sklearn.model_selection import train_test_split\n",
    "\n",
    "X_train, X_cv, y_train, y_cv = train_test_split(X,y, test_size=0.3, random_state=57)"
   ]
  },
  {
   "cell_type": "code",
   "execution_count": 45,
   "id": "1cb82751",
   "metadata": {},
   "outputs": [],
   "source": [
    "model_pipeline.fit(X_train,y_train)\n",
    "predictions = model_pipeline.predict(X_cv)"
   ]
  },
  {
   "cell_type": "code",
   "execution_count": 48,
   "id": "4599b906",
   "metadata": {},
   "outputs": [
    {
     "data": {
      "text/plain": [
       "array([-145.21610549, -103.66157502, -107.10261945, ...,  -99.69096292,\n",
       "       -121.97906465,  -97.69776105], shape=(401081,))"
      ]
     },
     "execution_count": 48,
     "metadata": {},
     "output_type": "execute_result"
    }
   ],
   "source": [
    "predictions[predictions < 0]"
   ]
  },
  {
   "cell_type": "code",
   "execution_count": 46,
   "id": "a4307ee2",
   "metadata": {},
   "outputs": [
    {
     "ename": "ValueError",
     "evalue": "Root Mean Squared Logarithmic Error cannot be used when targets contain values less than or equal to -1.",
     "output_type": "error",
     "traceback": [
      "\u001b[31m---------------------------------------------------------------------------\u001b[39m",
      "\u001b[31mValueError\u001b[39m                                Traceback (most recent call last)",
      "\u001b[36mCell\u001b[39m\u001b[36m \u001b[39m\u001b[32mIn[46]\u001b[39m\u001b[32m, line 3\u001b[39m\n\u001b[32m      1\u001b[39m \u001b[38;5;28;01mfrom\u001b[39;00m\u001b[38;5;250m \u001b[39m\u001b[34;01msklearn\u001b[39;00m\u001b[34;01m.\u001b[39;00m\u001b[34;01mmetrics\u001b[39;00m\u001b[38;5;250m \u001b[39m\u001b[38;5;28;01mimport\u001b[39;00m root_mean_squared_log_error\n\u001b[32m----> \u001b[39m\u001b[32m3\u001b[39m rmsle = \u001b[43mroot_mean_squared_log_error\u001b[49m\u001b[43m(\u001b[49m\u001b[43my_cv\u001b[49m\u001b[43m,\u001b[49m\u001b[43mpredictions\u001b[49m\u001b[43m)\u001b[49m\n\u001b[32m      4\u001b[39m \u001b[38;5;28mprint\u001b[39m(\u001b[33mf\u001b[39m\u001b[33m'\u001b[39m\u001b[33mRMSLE: \u001b[39m\u001b[38;5;132;01m{\u001b[39;00mrmsle\u001b[38;5;132;01m:\u001b[39;00m\u001b[33m .4f\u001b[39m\u001b[38;5;132;01m}\u001b[39;00m\u001b[33m'\u001b[39m)\n",
      "\u001b[36mFile \u001b[39m\u001b[32m~/Store-Sales/venv/lib/python3.12/site-packages/sklearn/utils/_param_validation.py:218\u001b[39m, in \u001b[36mvalidate_params.<locals>.decorator.<locals>.wrapper\u001b[39m\u001b[34m(*args, **kwargs)\u001b[39m\n\u001b[32m    212\u001b[39m \u001b[38;5;28;01mtry\u001b[39;00m:\n\u001b[32m    213\u001b[39m     \u001b[38;5;28;01mwith\u001b[39;00m config_context(\n\u001b[32m    214\u001b[39m         skip_parameter_validation=(\n\u001b[32m    215\u001b[39m             prefer_skip_nested_validation \u001b[38;5;129;01mor\u001b[39;00m global_skip_validation\n\u001b[32m    216\u001b[39m         )\n\u001b[32m    217\u001b[39m     ):\n\u001b[32m--> \u001b[39m\u001b[32m218\u001b[39m         \u001b[38;5;28;01mreturn\u001b[39;00m \u001b[43mfunc\u001b[49m\u001b[43m(\u001b[49m\u001b[43m*\u001b[49m\u001b[43margs\u001b[49m\u001b[43m,\u001b[49m\u001b[43m \u001b[49m\u001b[43m*\u001b[49m\u001b[43m*\u001b[49m\u001b[43mkwargs\u001b[49m\u001b[43m)\u001b[49m\n\u001b[32m    219\u001b[39m \u001b[38;5;28;01mexcept\u001b[39;00m InvalidParameterError \u001b[38;5;28;01mas\u001b[39;00m e:\n\u001b[32m    220\u001b[39m     \u001b[38;5;66;03m# When the function is just a wrapper around an estimator, we allow\u001b[39;00m\n\u001b[32m    221\u001b[39m     \u001b[38;5;66;03m# the function to delegate validation to the estimator, but we replace\u001b[39;00m\n\u001b[32m    222\u001b[39m     \u001b[38;5;66;03m# the name of the estimator by the name of the function in the error\u001b[39;00m\n\u001b[32m    223\u001b[39m     \u001b[38;5;66;03m# message to avoid confusion.\u001b[39;00m\n\u001b[32m    224\u001b[39m     msg = re.sub(\n\u001b[32m    225\u001b[39m         \u001b[33mr\u001b[39m\u001b[33m\"\u001b[39m\u001b[33mparameter of \u001b[39m\u001b[33m\\\u001b[39m\u001b[33mw+ must be\u001b[39m\u001b[33m\"\u001b[39m,\n\u001b[32m    226\u001b[39m         \u001b[33mf\u001b[39m\u001b[33m\"\u001b[39m\u001b[33mparameter of \u001b[39m\u001b[38;5;132;01m{\u001b[39;00mfunc.\u001b[34m__qualname__\u001b[39m\u001b[38;5;132;01m}\u001b[39;00m\u001b[33m must be\u001b[39m\u001b[33m\"\u001b[39m,\n\u001b[32m    227\u001b[39m         \u001b[38;5;28mstr\u001b[39m(e),\n\u001b[32m    228\u001b[39m     )\n",
      "\u001b[36mFile \u001b[39m\u001b[32m~/Store-Sales/venv/lib/python3.12/site-packages/sklearn/metrics/_regression.py:840\u001b[39m, in \u001b[36mroot_mean_squared_log_error\u001b[39m\u001b[34m(y_true, y_pred, sample_weight, multioutput)\u001b[39m\n\u001b[32m    833\u001b[39m _, y_true, y_pred, sample_weight, multioutput = (\n\u001b[32m    834\u001b[39m     _check_reg_targets_with_floating_dtype(\n\u001b[32m    835\u001b[39m         y_true, y_pred, sample_weight, multioutput, xp=xp\n\u001b[32m    836\u001b[39m     )\n\u001b[32m    837\u001b[39m )\n\u001b[32m    839\u001b[39m \u001b[38;5;28;01mif\u001b[39;00m xp.any(y_true <= -\u001b[32m1\u001b[39m) \u001b[38;5;129;01mor\u001b[39;00m xp.any(y_pred <= -\u001b[32m1\u001b[39m):\n\u001b[32m--> \u001b[39m\u001b[32m840\u001b[39m     \u001b[38;5;28;01mraise\u001b[39;00m \u001b[38;5;167;01mValueError\u001b[39;00m(\n\u001b[32m    841\u001b[39m         \u001b[33m\"\u001b[39m\u001b[33mRoot Mean Squared Logarithmic Error cannot be used when \u001b[39m\u001b[33m\"\u001b[39m\n\u001b[32m    842\u001b[39m         \u001b[33m\"\u001b[39m\u001b[33mtargets contain values less than or equal to -1.\u001b[39m\u001b[33m\"\u001b[39m\n\u001b[32m    843\u001b[39m     )\n\u001b[32m    845\u001b[39m \u001b[38;5;28;01mreturn\u001b[39;00m root_mean_squared_error(\n\u001b[32m    846\u001b[39m     xp.log1p(y_true),\n\u001b[32m    847\u001b[39m     xp.log1p(y_pred),\n\u001b[32m    848\u001b[39m     sample_weight=sample_weight,\n\u001b[32m    849\u001b[39m     multioutput=multioutput,\n\u001b[32m    850\u001b[39m )\n",
      "\u001b[31mValueError\u001b[39m: Root Mean Squared Logarithmic Error cannot be used when targets contain values less than or equal to -1."
     ]
    }
   ],
   "source": [
    "from sklearn.metrics import root_mean_squared_log_error\n",
    "\n",
    "rmsle = root_mean_squared_log_error(y_cv,predictions)\n",
    "print(f'RMSLE: {rmsle: .4f}')"
   ]
  },
  {
   "cell_type": "markdown",
   "id": "90fb2356",
   "metadata": {},
   "source": [
    "---"
   ]
  },
  {
   "cell_type": "code",
   "execution_count": null,
   "id": "b38b1dc5",
   "metadata": {},
   "outputs": [],
   "source": [
    "\n",
    "\n",
    "tot_sales = tot_sales.reset_index()  \n",
    "tot_sales['date'] = pd.to_datetime(tot_sales['date'])\n",
    "tot_sales = tot_sales.set_index('date').sort_index()\n",
    "\n",
    "dp = DeterministicProcess(\n",
    "    index = tot_sales.index,\n",
    "    constant=True,\n",
    "    order=1, # Linear trend\n",
    "    seasonal=True,\n",
    "    period=365, # Yearly seasonality\n",
    "    drop=True\n",
    ")\n",
    "\n",
    "# Training features\n",
    "X_train = dp.in_sample()\n",
    "y = tot_sales['sales']\n",
    "\n",
    "# Fit the linear model\n",
    "model = LinearRegression()\n",
    "model.fit(X_train,y)\n",
    "\n",
    "# Make predictions on training data, for evaluation\n",
    "y_pred = model.predict(X_train)\n",
    "\n",
    "# Calculate training error (root mean squared error)\n",
    "rmsle = np.sqrt(mean_squared_log_error(y,y_pred))\n",
    "print(f'Training RMSLE: {rmsle:.2f}')\n",
    "\n",
    "# Out-of-sample predictions\n",
    "forecast_steps = 16\n",
    "X_forecast = dp.out_of_sample(steps=forecast_steps)\n",
    "forecast = model.predict(X_forecast)\n",
    "\n",
    "# forecast dataframe\n",
    "last_date = tot_sales.index[-1]\n",
    "forecast_dates = pd.date_range(start=last_date + pd.Timedelta(days=1), \n",
    "                                periods=forecast_steps, \n",
    "                                freq='D')\n",
    "\n",
    "forecast_df = pd.DataFrame({\n",
    "    'date' : forecast_dates,\n",
    "    'forecast': forecast\n",
    "})\n",
    "\n",
    "print(\"\\nForecast:\")\n",
    "print(forecast_df)"
   ]
  }
 ],
 "metadata": {
  "kernelspec": {
   "display_name": "venv",
   "language": "python",
   "name": "python3"
  },
  "language_info": {
   "codemirror_mode": {
    "name": "ipython",
    "version": 3
   },
   "file_extension": ".py",
   "mimetype": "text/x-python",
   "name": "python",
   "nbconvert_exporter": "python",
   "pygments_lexer": "ipython3",
   "version": "3.12.7"
  }
 },
 "nbformat": 4,
 "nbformat_minor": 5
}
